{
 "cells": [
  {
   "cell_type": "markdown",
   "metadata": {},
   "source": [
    "# Numpy_Assignment_2::"
   ]
  },
  {
   "cell_type": "markdown",
   "metadata": {},
   "source": [
    "## Question:1"
   ]
  },
  {
   "cell_type": "markdown",
   "metadata": {},
   "source": [
    "### Convert a 1D array to a 2D array with 2 rows?"
   ]
  },
  {
   "cell_type": "markdown",
   "metadata": {},
   "source": [
    "#### Desired output::"
   ]
  },
  {
   "cell_type": "markdown",
   "metadata": {},
   "source": [
    "array([[0, 1, 2, 3, 4],\n",
    "        [5, 6, 7, 8, 9]])"
   ]
  },
  {
   "cell_type": "code",
   "execution_count": 1,
   "metadata": {},
   "outputs": [
    {
     "name": "stdout",
     "output_type": "stream",
     "text": [
      "[[0 1 2 3 4]\n",
      " [5 6 7 8 9]]\n"
     ]
    }
   ],
   "source": [
    "import numpy as np\n",
    "ar = np.array([0, 1, 2, 3, 4 , 5, 6, 7, 8, 9])\n",
    "ar = ar.reshape((2,5))\n",
    "print(ar)"
   ]
  },
  {
   "cell_type": "markdown",
   "metadata": {},
   "source": [
    "## Question:2"
   ]
  },
  {
   "cell_type": "markdown",
   "metadata": {},
   "source": [
    "###  How to stack two arrays vertically?"
   ]
  },
  {
   "cell_type": "markdown",
   "metadata": {},
   "source": [
    "#### Desired Output::"
   ]
  },
  {
   "cell_type": "raw",
   "metadata": {},
   "source": [
    "array([[0, 1, 2, 3, 4],\n",
    "        [5, 6, 7, 8, 9],\n",
    "       [1, 1, 1, 1, 1],\n",
    "       [1, 1, 1, 1, 1]])"
   ]
  },
  {
   "cell_type": "code",
   "execution_count": 3,
   "metadata": {},
   "outputs": [
    {
     "data": {
      "text/plain": [
       "array([[0, 1, 2, 3, 4],\n",
       "       [5, 6, 7, 8, 9],\n",
       "       [1, 1, 1, 1, 1],\n",
       "       [1, 1, 1, 1, 1]])"
      ]
     },
     "execution_count": 3,
     "metadata": {},
     "output_type": "execute_result"
    }
   ],
   "source": [
    "ar1 = np.array([[0, 1, 2, 3, 4],\n",
    "                [5, 6, 7, 8, 9]])\n",
    "ar2 = np.ones((2,5))\n",
    "ar3 = np.vstack((ar1,ar2))\n",
    "ar3.astype('int32')"
   ]
  },
  {
   "cell_type": "markdown",
   "metadata": {},
   "source": [
    "## Question:3"
   ]
  },
  {
   "cell_type": "markdown",
   "metadata": {},
   "source": [
    "### How to stack two arrays horizontally?"
   ]
  },
  {
   "cell_type": "markdown",
   "metadata": {},
   "source": [
    "#### Desired Output::"
   ]
  },
  {
   "cell_type": "raw",
   "metadata": {},
   "source": [
    "array([[0, 1, 2, 3, 4, 1, 1, 1, 1, 1],\n",
    "       [5, 6, 7, 8, 9, 1, 1, 1, 1, 1]])"
   ]
  },
  {
   "cell_type": "code",
   "execution_count": 5,
   "metadata": {},
   "outputs": [
    {
     "data": {
      "text/plain": [
       "array([[0, 1, 2, 3, 4, 1, 1, 1, 1, 1],\n",
       "       [5, 6, 7, 8, 9, 1, 1, 1, 1, 1]])"
      ]
     },
     "execution_count": 5,
     "metadata": {},
     "output_type": "execute_result"
    }
   ],
   "source": [
    "arr4 = np.hstack((ar1,ar2))\n",
    "arr4.astype('int32')"
   ]
  },
  {
   "cell_type": "markdown",
   "metadata": {},
   "source": [
    "## Question:4"
   ]
  },
  {
   "cell_type": "markdown",
   "metadata": {},
   "source": [
    "### How to convert an array of arrays into a flat 1d array?"
   ]
  },
  {
   "cell_type": "markdown",
   "metadata": {},
   "source": [
    "#### Desired Output::"
   ]
  },
  {
   "cell_type": "raw",
   "metadata": {},
   "source": [
    "array([0, 1, 2, 3, 4, 5, 6, 7, 8, 9])"
   ]
  },
  {
   "cell_type": "code",
   "execution_count": 7,
   "metadata": {},
   "outputs": [
    {
     "data": {
      "text/plain": [
       "array([0, 1, 2, 3, 4, 5, 6, 7, 8, 9])"
      ]
     },
     "execution_count": 7,
     "metadata": {},
     "output_type": "execute_result"
    }
   ],
   "source": [
    "ar.flatten()"
   ]
  },
  {
   "cell_type": "markdown",
   "metadata": {},
   "source": [
    "## Question:5"
   ]
  },
  {
   "cell_type": "markdown",
   "metadata": {},
   "source": [
    "### How to Convert higher dimension into one dimension?"
   ]
  },
  {
   "cell_type": "markdown",
   "metadata": {},
   "source": [
    "#### Desired Output::"
   ]
  },
  {
   "cell_type": "raw",
   "metadata": {},
   "source": [
    "array([ 0, 1, 2, 3, 4, 5, 6, 7, 8, 9, 10, 11, 12, 13, 14])"
   ]
  },
  {
   "cell_type": "code",
   "execution_count": 8,
   "metadata": {},
   "outputs": [
    {
     "data": {
      "text/plain": [
       "array([ 0,  1,  2,  3,  4,  5,  6,  7,  8,  9, 10, 11, 12, 13, 14])"
      ]
     },
     "execution_count": 8,
     "metadata": {},
     "output_type": "execute_result"
    }
   ],
   "source": [
    "ar5 = np.array([\n",
    "    [ 0, 1, 2],\n",
    "    [ 3, 4, 5],\n",
    "    [ 6, 7, 8],\n",
    "    [ 9, 10, 11],\n",
    "    [12, 13, 14]\n",
    "])\n",
    "np.ravel(ar5)"
   ]
  },
  {
   "cell_type": "markdown",
   "metadata": {},
   "source": [
    "## Question:6"
   ]
  },
  {
   "cell_type": "markdown",
   "metadata": {},
   "source": [
    "### Convert one dimension to higher dimension?"
   ]
  },
  {
   "cell_type": "markdown",
   "metadata": {},
   "source": [
    "#### Desired Output::"
   ]
  },
  {
   "cell_type": "raw",
   "metadata": {},
   "source": [
    "array([[ 0, 1, 2],\n",
    "[ 3, 4, 5],\n",
    "[ 6, 7, 8],\n",
    "[ 9, 10, 11],\n",
    "[12, 13, 14]])"
   ]
  },
  {
   "cell_type": "code",
   "execution_count": 9,
   "metadata": {},
   "outputs": [
    {
     "data": {
      "text/plain": [
       "array([[ 0,  1,  2],\n",
       "       [ 3,  4,  5],\n",
       "       [ 6,  7,  8],\n",
       "       [ 9, 10, 11],\n",
       "       [12, 13, 14]])"
      ]
     },
     "execution_count": 9,
     "metadata": {},
     "output_type": "execute_result"
    }
   ],
   "source": [
    "ar5.reshape(5,3)"
   ]
  },
  {
   "cell_type": "markdown",
   "metadata": {},
   "source": [
    "## Question:7"
   ]
  },
  {
   "cell_type": "markdown",
   "metadata": {},
   "source": [
    "### Create 5x5 an array and find the square of an array?"
   ]
  },
  {
   "cell_type": "code",
   "execution_count": 12,
   "metadata": {},
   "outputs": [
    {
     "name": "stdout",
     "output_type": "stream",
     "text": [
      "Original: \n",
      "\n",
      "[[ 2 10  9  4 22]\n",
      " [21 11  1 20 15]\n",
      " [14 15 10 20  5]\n",
      " [23 13 15  7  9]\n",
      " [23 14  4 24  8]]\n",
      "\n",
      "\n",
      "Square of Array: \n",
      "\n",
      "[[  4 100  81  16 484]\n",
      " [441 121   1 400 225]\n",
      " [196 225 100 400  25]\n",
      " [529 169 225  49  81]\n",
      " [529 196  16 576  64]]\n"
     ]
    }
   ],
   "source": [
    "ar6 = np.random.randint(1,25, size = (5,5))\n",
    "print(\"Original: \\n\")\n",
    "print (ar6)\n",
    "print(\"\\n\")\n",
    "print(\"Square of Array: \\n\")\n",
    "print(ar6 ** 2)"
   ]
  },
  {
   "cell_type": "markdown",
   "metadata": {},
   "source": [
    "## Question:8"
   ]
  },
  {
   "cell_type": "markdown",
   "metadata": {},
   "source": [
    "### Create 5x6 an array and find the mean?"
   ]
  },
  {
   "cell_type": "code",
   "execution_count": 13,
   "metadata": {},
   "outputs": [
    {
     "name": "stdout",
     "output_type": "stream",
     "text": [
      "Original: \n",
      "\n",
      "[[ 1 18 17  5  8 18]\n",
      " [ 7  7 13  1  2  6]\n",
      " [ 8  5 17 12  2  5]\n",
      " [ 3 14  1 11  6  9]\n",
      " [ 7  1  3  8 10  5]]\n",
      "\n",
      "\n",
      "Mean of Array: \n",
      "\n",
      "7.666666666666667\n"
     ]
    }
   ],
   "source": [
    "ar8 = np.random.randint(1,20, size = (5,6))\n",
    "print(\"Original: \\n\")\n",
    "print (ar8)\n",
    "print(\"\\n\")\n",
    "print(\"Mean of Array: \\n\")\n",
    "print(ar8.mean())"
   ]
  },
  {
   "cell_type": "markdown",
   "metadata": {},
   "source": [
    "## Question:9"
   ]
  },
  {
   "cell_type": "markdown",
   "metadata": {},
   "source": [
    "### Find the standard deviation of the previous array in Q8?"
   ]
  },
  {
   "cell_type": "code",
   "execution_count": 14,
   "metadata": {},
   "outputs": [
    {
     "name": "stdout",
     "output_type": "stream",
     "text": [
      "Original: \n",
      "\n",
      "[[ 1 18 17  5  8 18]\n",
      " [ 7  7 13  1  2  6]\n",
      " [ 8  5 17 12  2  5]\n",
      " [ 3 14  1 11  6  9]\n",
      " [ 7  1  3  8 10  5]]\n",
      "\n",
      "\n",
      "Standard deviation of Array: \n",
      "\n",
      "5.211099265563414\n"
     ]
    }
   ],
   "source": [
    "print(\"Original: \\n\")\n",
    "print (ar8)\n",
    "print(\"\\n\")\n",
    "print(\"Standard deviation of Array: \\n\")\n",
    "print(np.std(ar8))"
   ]
  },
  {
   "cell_type": "markdown",
   "metadata": {},
   "source": [
    "## Question:10"
   ]
  },
  {
   "cell_type": "markdown",
   "metadata": {},
   "source": [
    "### Find the median of the previous array in Q8?"
   ]
  },
  {
   "cell_type": "code",
   "execution_count": 15,
   "metadata": {},
   "outputs": [
    {
     "name": "stdout",
     "output_type": "stream",
     "text": [
      "Original: \n",
      "\n",
      "[[ 1 18 17  5  8 18]\n",
      " [ 7  7 13  1  2  6]\n",
      " [ 8  5 17 12  2  5]\n",
      " [ 3 14  1 11  6  9]\n",
      " [ 7  1  3  8 10  5]]\n",
      "\n",
      "\n",
      "Median of Array: \n",
      "\n",
      "7.0\n"
     ]
    }
   ],
   "source": [
    "print(\"Original: \\n\")\n",
    "print (ar8)\n",
    "print(\"\\n\")\n",
    "print(\"Median of Array: \\n\")\n",
    "print(np.median(ar8))"
   ]
  },
  {
   "cell_type": "markdown",
   "metadata": {},
   "source": [
    "## Question:11"
   ]
  },
  {
   "cell_type": "markdown",
   "metadata": {},
   "source": [
    "### Find the transpose of the previous array in Q8?"
   ]
  },
  {
   "cell_type": "code",
   "execution_count": 16,
   "metadata": {},
   "outputs": [
    {
     "name": "stdout",
     "output_type": "stream",
     "text": [
      "Original: \n",
      "\n",
      "[[ 1 18 17  5  8 18]\n",
      " [ 7  7 13  1  2  6]\n",
      " [ 8  5 17 12  2  5]\n",
      " [ 3 14  1 11  6  9]\n",
      " [ 7  1  3  8 10  5]]\n",
      "\n",
      "\n",
      "Transpose of Array: \n",
      "\n",
      "[[ 1  7  8  3  7]\n",
      " [18  7  5 14  1]\n",
      " [17 13 17  1  3]\n",
      " [ 5  1 12 11  8]\n",
      " [ 8  2  2  6 10]\n",
      " [18  6  5  9  5]]\n"
     ]
    }
   ],
   "source": [
    "print(\"Original: \\n\")\n",
    "print (ar8)\n",
    "print(\"\\n\")\n",
    "print(\"Transpose of Array: \\n\")\n",
    "print(np.transpose(ar8))"
   ]
  },
  {
   "cell_type": "markdown",
   "metadata": {},
   "source": [
    "## Question:12"
   ]
  },
  {
   "cell_type": "markdown",
   "metadata": {},
   "source": [
    "### Create a 4x4 an array and find the sum of diagonal elements?"
   ]
  },
  {
   "cell_type": "code",
   "execution_count": 18,
   "metadata": {},
   "outputs": [
    {
     "name": "stdout",
     "output_type": "stream",
     "text": [
      "Original: \n",
      "\n",
      "[[13  8 10  5]\n",
      " [ 8  2 11  8]\n",
      " [ 3  3  3 14]\n",
      " [12 11  9  6]]\n",
      "\n",
      "\n",
      "Sum of diagonal elements of Array: \n",
      "\n"
     ]
    },
    {
     "data": {
      "text/plain": [
       "24"
      ]
     },
     "execution_count": 18,
     "metadata": {},
     "output_type": "execute_result"
    }
   ],
   "source": [
    "ar7 = np.random.randint(1,20, size = (4,4))\n",
    "print(\"Original: \\n\")\n",
    "print (ar7)\n",
    "print(\"\\n\")\n",
    "print(\"Sum of diagonal elements of Array: \\n\")\n",
    "np.trace(ar7)"
   ]
  },
  {
   "cell_type": "markdown",
   "metadata": {},
   "source": [
    "## Question:13"
   ]
  },
  {
   "cell_type": "markdown",
   "metadata": {},
   "source": [
    "### Find the determinant of the previous array in Q12?"
   ]
  },
  {
   "cell_type": "code",
   "execution_count": 19,
   "metadata": {},
   "outputs": [
    {
     "name": "stdout",
     "output_type": "stream",
     "text": [
      "Original: \n",
      "\n",
      "[[13  8 10  5]\n",
      " [ 8  2 11  8]\n",
      " [ 3  3  3 14]\n",
      " [12 11  9  6]]\n",
      "\n",
      "\n",
      "Determinant: \n",
      "\n"
     ]
    },
    {
     "data": {
      "text/plain": [
       "2498.9999999999973"
      ]
     },
     "execution_count": 19,
     "metadata": {},
     "output_type": "execute_result"
    }
   ],
   "source": [
    "print(\"Original: \\n\")\n",
    "print (ar7)\n",
    "print(\"\\n\")\n",
    "print(\"Determinant: \\n\")\n",
    "np.linalg.det(ar7)"
   ]
  },
  {
   "cell_type": "markdown",
   "metadata": {},
   "source": [
    "## Question:14"
   ]
  },
  {
   "cell_type": "markdown",
   "metadata": {},
   "source": [
    "### Find the 5th and 95th percentile of an array?"
   ]
  },
  {
   "cell_type": "code",
   "execution_count": 20,
   "metadata": {},
   "outputs": [
    {
     "name": "stdout",
     "output_type": "stream",
     "text": [
      "Original: \n",
      "\n",
      "[[13  8 10  5]\n",
      " [ 8  2 11  8]\n",
      " [ 3  3  3 14]\n",
      " [12 11  9  6]]\n",
      "\n",
      "\n",
      "5th percentile of an array: 2.75\n",
      "95th percentile of an array: 13.25\n"
     ]
    }
   ],
   "source": [
    "print(\"Original: \\n\")\n",
    "print (ar7)\n",
    "print(\"\\n\")\n",
    "print(f\"5th percentile of an array: {np.percentile(ar7, 5)}\")\n",
    "print(f\"95th percentile of an array: {np.percentile(ar7, 95)}\")"
   ]
  },
  {
   "cell_type": "markdown",
   "metadata": {},
   "source": [
    "## Question:15"
   ]
  },
  {
   "cell_type": "markdown",
   "metadata": {},
   "source": [
    "### How to find if a given array has any null values?"
   ]
  },
  {
   "cell_type": "code",
   "execution_count": 23,
   "metadata": {},
   "outputs": [
    {
     "data": {
      "text/plain": [
       "False"
      ]
     },
     "execution_count": 23,
     "metadata": {},
     "output_type": "execute_result"
    }
   ],
   "source": [
    "np.isnan(arr6).any()"
   ]
  },
  {
   "cell_type": "code",
   "execution_count": null,
   "metadata": {},
   "outputs": [],
   "source": []
  }
 ],
 "metadata": {
  "kernelspec": {
   "display_name": "Python 3",
   "language": "python",
   "name": "python3"
  },
  "language_info": {
   "codemirror_mode": {
    "name": "ipython",
    "version": 3
   },
   "file_extension": ".py",
   "mimetype": "text/x-python",
   "name": "python",
   "nbconvert_exporter": "python",
   "pygments_lexer": "ipython3",
   "version": "3.7.4"
  }
 },
 "nbformat": 4,
 "nbformat_minor": 2
}
