{
 "cells": [
  {
   "cell_type": "code",
   "execution_count": 6,
   "metadata": {},
   "outputs": [
    {
     "name": "stdout",
     "output_type": "stream",
     "text": [
      "Area of the circle is : 6.15\n"
     ]
    }
   ],
   "source": [
    "def calcArea(r):\n",
    "    pi_value = 3.14\n",
    "    area = pi_value * r * r\n",
    "    return print(\"Area of the circle is : %.2f\" %area);\n",
    "\n",
    "calcArea(1.4)"
   ]
  },
  {
   "cell_type": "code",
   "execution_count": 7,
   "metadata": {
    "scrolled": true
   },
   "outputs": [
    {
     "name": "stdout",
     "output_type": "stream",
     "text": [
      "Data Found:  python\n",
      "Data Found:  html\n",
      "Data Found:  c\n"
     ]
    }
   ],
   "source": [
    "data = [\"python\", \"r\", \"java\", \"pascal\", \"c\", \"javascript\", \"assembley\", \"html\", \"c++\"]\n",
    "\n",
    "def checkVal(data,value):\n",
    "    if value in data:\n",
    "         print(\"Data Found: \", value)\n",
    "    else:    \n",
    "        print(\"Sorry! Not Found\")\n",
    "        \n",
    "checkVal(data,\"python\")  \n",
    "checkVal(data,\"html\")  \n",
    "checkVal(data,\"c\")  "
   ]
  },
  {
   "cell_type": "code",
   "execution_count": 19,
   "metadata": {
    "scrolled": true
   },
   "outputs": [
    {
     "data": {
      "text/plain": [
       "['assembley',\n",
       " 'html',\n",
       " 'c++',\n",
       " 'python',\n",
       " 'r',\n",
       " 'java',\n",
       " 'pascal',\n",
       " 'c',\n",
       " 'javascript']"
      ]
     },
     "execution_count": 19,
     "metadata": {},
     "output_type": "execute_result"
    }
   ],
   "source": [
    "data = [\"python\", \"r\", \"java\", \"pascal\", \"c\", \"javascript\", \"assembley\", \"html\", \"c++\"]\n",
    "\n",
    "def shiftItems(data,n):\n",
    "    a = n % len(data)\n",
    "    return data[-a:] + data[:-a]\n",
    "\n",
    "shiftItems(data,3)"
   ]
  },
  {
   "cell_type": "code",
   "execution_count": 20,
   "metadata": {},
   "outputs": [
    {
     "data": {
      "text/plain": [
       "['c++',\n",
       " 'python',\n",
       " 'r',\n",
       " 'java',\n",
       " 'pascal',\n",
       " 'c',\n",
       " 'javascript',\n",
       " 'assembley',\n",
       " 'html']"
      ]
     },
     "execution_count": 20,
     "metadata": {},
     "output_type": "execute_result"
    }
   ],
   "source": [
    "shiftItems(data,1)"
   ]
  },
  {
   "cell_type": "code",
   "execution_count": 53,
   "metadata": {},
   "outputs": [
    {
     "name": "stdout",
     "output_type": "stream",
     "text": [
      "Enter a number to get the radius of the circle1\n",
      "Area of the circle is : 3.14\n",
      "Enter a number to get the radius of the circle3\n",
      "Area of the circle is : 28.26\n",
      "Enter a number to get the radius of the circlequit\n",
      "\n",
      " You Quit the Program\n"
     ]
    }
   ],
   "source": [
    "def calcArea(r):\n",
    "    pi_value = 3.14\n",
    "    area = pi_value * r * r\n",
    "    return print(\"Area of the circle is : %.2f\" %area)\n",
    "\n",
    "while True:\n",
    "    value = input(\"Enter a number to get the radius of the circle\")\n",
    "    if(value == \"quit\"):\n",
    "        print(\"\\n You Quit the Program\")\n",
    "        break\n",
    "    else:\n",
    "        calcArea(float(value))\n",
    "\n"
   ]
  },
  {
   "cell_type": "code",
   "execution_count": 138,
   "metadata": {},
   "outputs": [
    {
     "name": "stdout",
     "output_type": "stream",
     "text": [
      "Hello Ali\n",
      "Here is your result for classs of AI.\n",
      "Your score card is as follows.\n",
      "ClassMarks: \n",
      " \tmath : 50\n",
      "\tphysics : 80\n",
      "\tbiology : 90\n",
      "\tcomputer : 67\n",
      "Total marks are: 287\n",
      "Percentage is as follows: 71.75%\n",
      "Maximum marks are in biology\n",
      "Minimum marks are in math\n",
      "You are promoted to next class.\n"
     ]
    }
   ],
   "source": [
    "def percent(total,value):\n",
    "    return (total/value) * 100\n",
    "\n",
    "def showDetails(name,classs,marks,date,nextClass,*args,**kwargs ):\n",
    "    \n",
    "    \n",
    "    message = \"\"\"Hello {}\n",
    "Here is your result for classs of {}.\n",
    "Your score card is as follows.\n",
    "ClassMarks: \\n \"\"\".format(name,classs)\n",
    "    total = 0\n",
    "    \n",
    "    for k, v in marks.items():\n",
    "        forvalue = \"\\t\" +str(k) + \" : \" + str(v) + \"\\n\"\n",
    "        total = total + v\n",
    "        message += forvalue\n",
    "   \n",
    "    percentage = percent(total,400)\n",
    "    \n",
    "    minvalue = min(marks, key=marks.get)\n",
    "    maxvalue = max(marks, key=marks.get)\n",
    "\n",
    "    \n",
    "    message += \"\"\"Total marks are: {}\n",
    "Percentage is as follows: {}%\n",
    "Maximum marks are in {}\n",
    "Minimum marks are in {}\n",
    "You are promoted to next class.\"\"\".format(total,percentage,maxvalue,minvalue)\n",
    "    \n",
    "    print(message)\n",
    "    \n",
    "showDetails(name = \"Ali\", classs = \"AI\", marks = {\"math\" : 50, \"physics\" : 80, \"biology\" : 90, \"computer\" : 67}, date = \"1 Feb 2020\", nextClass = True)"
   ]
  },
  {
   "cell_type": "code",
   "execution_count": null,
   "metadata": {},
   "outputs": [],
   "source": []
  },
  {
   "cell_type": "code",
   "execution_count": null,
   "metadata": {},
   "outputs": [],
   "source": []
  }
 ],
 "metadata": {
  "kernelspec": {
   "display_name": "Python 3",
   "language": "python",
   "name": "python3"
  },
  "language_info": {
   "codemirror_mode": {
    "name": "ipython",
    "version": 3
   },
   "file_extension": ".py",
   "mimetype": "text/x-python",
   "name": "python",
   "nbconvert_exporter": "python",
   "pygments_lexer": "ipython3",
   "version": "3.7.4"
  }
 },
 "nbformat": 4,
 "nbformat_minor": 2
}
