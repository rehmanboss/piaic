{
 "cells": [
  {
   "cell_type": "code",
   "execution_count": 5,
   "metadata": {},
   "outputs": [
    {
     "name": "stdout",
     "output_type": "stream",
     "text": [
      "Enter your NameAbdul Rehman\n",
      "Enter your Age20\n",
      "Enter ClassArtificial Intelligence\n",
      "Enter UniversityUniversity Name\n"
     ]
    }
   ],
   "source": [
    "name = input(\"Enter your Name\")\n",
    "age = input(\"Enter your Age\")\n",
    "classs = input(\"Enter Class\")\n",
    "university = input(\"Enter University\")\n",
    "message = \"\"\"Hello '{name}'\n",
    "Your application is accepted for {classs} in {university}\"\"\".format(name = name, classs = classs,university = university)"
   ]
  },
  {
   "cell_type": "code",
   "execution_count": 6,
   "metadata": {},
   "outputs": [
    {
     "name": "stdout",
     "output_type": "stream",
     "text": [
      "Hello 'Abdul Rehman'\n",
      "Your application is accepted for Artificial Intelligence in University Name\n"
     ]
    }
   ],
   "source": [
    "print(message)"
   ]
  },
  {
   "cell_type": "code",
   "execution_count": null,
   "metadata": {},
   "outputs": [],
   "source": []
  }
 ],
 "metadata": {
  "kernelspec": {
   "display_name": "Python 3",
   "language": "python",
   "name": "python3"
  },
  "language_info": {
   "codemirror_mode": {
    "name": "ipython",
    "version": 3
   },
   "file_extension": ".py",
   "mimetype": "text/x-python",
   "name": "python",
   "nbconvert_exporter": "python",
   "pygments_lexer": "ipython3",
   "version": "3.7.4"
  }
 },
 "nbformat": 4,
 "nbformat_minor": 2
}
