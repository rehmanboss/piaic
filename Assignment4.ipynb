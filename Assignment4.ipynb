{
 "cells": [
  {
   "cell_type": "code",
   "execution_count": 2,
   "metadata": {
    "scrolled": true
   },
   "outputs": [
    {
     "name": "stdout",
     "output_type": "stream",
     "text": [
      "Enter your name: Abdul Rehman\n",
      "Enter your age: 20\n",
      "Enter your work: Job\n",
      "Enter your Skill: Web Development\n",
      "Do you want to add more skills?y/n : y\n",
      "Enter your Skill: Artificial Intelligence\n",
      "Do you want to add more skills?y/n : n\n",
      "input Degree title: ICS\n",
      "input Degree major: major\n",
      "input Degree completionDate: 12/12\n",
      "Enter your salary: 15000\n",
      "[{'name': 'Abdul Rehman', 'age': 20, 'work': 'Job', 'skills': ['Web Development', 'Artificial Intelligence'], 'degree': {'title': 'ICS', 'major': 'major', 'completionDate': '12/12'}, 'salary': 15000}]\n"
     ]
    }
   ],
   "source": [
    "def insertSkill(skil):\n",
    "    skil_name = str(input(\"Enter your Skill: \"))\n",
    "    skil.append(skil_name)\n",
    "    \n",
    "def add_item(dic,key,value):\n",
    "    dic[key] = value\n",
    "    \n",
    "def addPersonInformation(allData):\n",
    "    single_person = {}\n",
    "    skills = []\n",
    "    degree = {} \n",
    "    name = str(input(\"Enter your name: \"))\n",
    "    age = int(input(\"Enter your age: \"))\n",
    "    work = str(input(\"Enter your work: \"))\n",
    "    insertSkill(skills)\n",
    "    while True:\n",
    "        ans = str(input(\"Do you want to add more skills?y/n : \"))\n",
    "        if ans=='y':\n",
    "            insertSkill(skills)\n",
    "        elif ans == 'n':\n",
    "            break;\n",
    "        else:\n",
    "            print(\"invalid value: please add y/n\")\n",
    "            \n",
    "    v = input(\"input Degree title: \")\n",
    "    add_item(degree,\"title\",v) \n",
    "    v = input(\"input Degree major: \")\n",
    "    add_item(degree,\"major\",v) \n",
    "    v = input(\"input Degree completionDate: \")\n",
    "    add_item(degree,\"completionDate\",v) \n",
    "    salary = int(input(\"Enter your salary: \"))\n",
    "    \n",
    "    add_item(single_person,\"name\",name)\n",
    "    add_item(single_person,\"age\",age)\n",
    "    add_item(single_person,\"work\",work)\n",
    "    add_item(single_person,\"skills\",skills)\n",
    "    add_item(single_person,\"degree\",degree)\n",
    "    add_item(single_person,\"salary\",salary)\n",
    "    allData.append(single_person)\n",
    "        \n",
    "allData = []\n",
    "addPersonInformation(allData)\n",
    "print(allData)"
   ]
  },
  {
   "cell_type": "code",
   "execution_count": 1,
   "metadata": {},
   "outputs": [
    {
     "name": "stdout",
     "output_type": "stream",
     "text": [
      "Enter start number1\n",
      "Enter end number5\n",
      "\n",
      "1 * 1 = 1\n",
      "1 * 2 = 2\n",
      "1 * 3 = 3\n",
      "1 * 4 = 4\n",
      "1 * 5 = 5\n",
      "1 * 6 = 6\n",
      "1 * 7 = 7\n",
      "1 * 8 = 8\n",
      "1 * 9 = 9\n",
      "1 * 10 = 10\n",
      "\n",
      "2 * 1 = 2\n",
      "2 * 2 = 4\n",
      "2 * 3 = 6\n",
      "2 * 4 = 8\n",
      "2 * 5 = 10\n",
      "2 * 6 = 12\n",
      "2 * 7 = 14\n",
      "2 * 8 = 16\n",
      "2 * 9 = 18\n",
      "2 * 10 = 20\n",
      "\n",
      "3 * 1 = 3\n",
      "3 * 2 = 6\n",
      "3 * 3 = 9\n",
      "3 * 4 = 12\n",
      "3 * 5 = 15\n",
      "3 * 6 = 18\n",
      "3 * 7 = 21\n",
      "3 * 8 = 24\n",
      "3 * 9 = 27\n",
      "3 * 10 = 30\n",
      "\n",
      "4 * 1 = 4\n",
      "4 * 2 = 8\n",
      "4 * 3 = 12\n",
      "4 * 4 = 16\n",
      "4 * 5 = 20\n",
      "4 * 6 = 24\n",
      "4 * 7 = 28\n",
      "4 * 8 = 32\n",
      "4 * 9 = 36\n",
      "4 * 10 = 40\n",
      "\n",
      "5 * 1 = 5\n",
      "5 * 2 = 10\n",
      "5 * 3 = 15\n",
      "5 * 4 = 20\n",
      "5 * 5 = 25\n",
      "5 * 6 = 30\n",
      "5 * 7 = 35\n",
      "5 * 8 = 40\n",
      "5 * 9 = 45\n",
      "5 * 10 = 50\n"
     ]
    }
   ],
   "source": [
    "start  = int(input(\"Enter start number\"))\n",
    "end = int(input(\"Enter end number\"))\n",
    "for j in range (start,end+1):\n",
    "    print(\"\")\n",
    "    for i in range(1,11):\n",
    "        print(str(j)+\" * \"+str(i)+\" = \"+str((j*i)))"
   ]
  },
  {
   "cell_type": "code",
   "execution_count": 44,
   "metadata": {},
   "outputs": [
    {
     "name": "stdout",
     "output_type": "stream",
     "text": [
      "Enter start number1\n",
      "Enter end number5\n",
      "1 * 1 = 1 \t2 * 1 = 2 \t3 * 1 = 3 \t4 * 1 = 4 \t5 * 1 = 5 \t\n",
      "1 * 2 = 2 \t2 * 2 = 4 \t3 * 2 = 6 \t4 * 2 = 8 \t5 * 2 = 10 \t\n",
      "1 * 3 = 3 \t2 * 3 = 6 \t3 * 3 = 9 \t4 * 3 = 12 \t5 * 3 = 15 \t\n",
      "1 * 4 = 4 \t2 * 4 = 8 \t3 * 4 = 12 \t4 * 4 = 16 \t5 * 4 = 20 \t\n",
      "1 * 5 = 5 \t2 * 5 = 10 \t3 * 5 = 15 \t4 * 5 = 20 \t5 * 5 = 25 \t\n",
      "1 * 6 = 6 \t2 * 6 = 12 \t3 * 6 = 18 \t4 * 6 = 24 \t5 * 6 = 30 \t\n",
      "1 * 7 = 7 \t2 * 7 = 14 \t3 * 7 = 21 \t4 * 7 = 28 \t5 * 7 = 35 \t\n",
      "1 * 8 = 8 \t2 * 8 = 16 \t3 * 8 = 24 \t4 * 8 = 32 \t5 * 8 = 40 \t\n",
      "1 * 9 = 9 \t2 * 9 = 18 \t3 * 9 = 27 \t4 * 9 = 36 \t5 * 9 = 45 \t\n",
      "1 * 10 = 10 \t2 * 10 = 20 \t3 * 10 = 30 \t4 * 10 = 40 \t5 * 10 = 50 \t\n"
     ]
    }
   ],
   "source": [
    "start  = int(input(\"Enter start number\"))\n",
    "end = int(input(\"Enter end number\"))\n",
    "for j in range (1,11):\n",
    "        for i in range(start,end+1):\n",
    "            print(str(i)+\" * \"+str(j)+\" = \"+str((i*j)),\"\\t\",end=\"\")\n",
    "        print(\"\")"
   ]
  },
  {
   "cell_type": "code",
   "execution_count": null,
   "metadata": {},
   "outputs": [],
   "source": []
  }
 ],
 "metadata": {
  "kernelspec": {
   "display_name": "Python 3",
   "language": "python",
   "name": "python3"
  },
  "language_info": {
   "codemirror_mode": {
    "name": "ipython",
    "version": 3
   },
   "file_extension": ".py",
   "mimetype": "text/x-python",
   "name": "python",
   "nbconvert_exporter": "python",
   "pygments_lexer": "ipython3",
   "version": "3.7.4"
  }
 },
 "nbformat": 4,
 "nbformat_minor": 2
}
