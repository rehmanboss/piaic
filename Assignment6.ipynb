{
 "cells": [
  {
   "cell_type": "code",
   "execution_count": 21,
   "metadata": {},
   "outputs": [
    {
     "name": "stdout",
     "output_type": "stream",
     "text": [
      "Area :  12.56\n",
      "Parameter :  18.84\n"
     ]
    }
   ],
   "source": [
    "class Circle():\n",
    "    def area(self,r):\n",
    "        area = 3.14 * r * r\n",
    "        print(\"Area : \", area)\n",
    "        \n",
    "    def parameter(self,r):\n",
    "        parameter = 3.14 * (2 * r)\n",
    "        print(\"Parameter : \", parameter)\n",
    "        \n",
    "radius = Circle()\n",
    "radius.area(2)\n",
    "radius.parameter(3)\n",
    "        "
   ]
  },
  {
   "cell_type": "code",
   "execution_count": 12,
   "metadata": {},
   "outputs": [
    {
     "name": "stdout",
     "output_type": "stream",
     "text": [
      "Please enter a value : working\n",
      "UpperCase :  WORKING\n"
     ]
    }
   ],
   "source": [
    "class printClass():\n",
    "    def get_String(self,val):\n",
    "        self.val = val.upper()\n",
    "        \n",
    "    def print_String(self):\n",
    "        print(\"UpperCase : \", self.val)\n",
    "        \n",
    "value = printClass()\n",
    "inp = input(\"Please enter a value : \")\n",
    "value.get_String(inp)    \n",
    "value.print_String()"
   ]
  },
  {
   "cell_type": "code",
   "execution_count": 17,
   "metadata": {},
   "outputs": [
    {
     "name": "stdout",
     "output_type": "stream",
     "text": [
      "Please enter a value : Reverse the String \n",
      "Reversed String   String the Reverse\n"
     ]
    }
   ],
   "source": [
    "class revertString():\n",
    "    def revert(self,val):\n",
    "        \n",
    "        splitting = val.split(\" \") \n",
    "        splitting=splitting[-1::-1] \n",
    "      \n",
    "        output = ' '.join(splitting) \n",
    "        \n",
    "        print(\"Reversed String \" , output)\n",
    "\n",
    "value = revertString()\n",
    "inp = input(\"Please enter a value : \")\n",
    "value.revert(inp)"
   ]
  },
  {
   "cell_type": "code",
   "execution_count": null,
   "metadata": {},
   "outputs": [],
   "source": []
  }
 ],
 "metadata": {
  "kernelspec": {
   "display_name": "Python 3",
   "language": "python",
   "name": "python3"
  },
  "language_info": {
   "codemirror_mode": {
    "name": "ipython",
    "version": 3
   },
   "file_extension": ".py",
   "mimetype": "text/x-python",
   "name": "python",
   "nbconvert_exporter": "python",
   "pygments_lexer": "ipython3",
   "version": "3.7.4"
  }
 },
 "nbformat": 4,
 "nbformat_minor": 2
}
